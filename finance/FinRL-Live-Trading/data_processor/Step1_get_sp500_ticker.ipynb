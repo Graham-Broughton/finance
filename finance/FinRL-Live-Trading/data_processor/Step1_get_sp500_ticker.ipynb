{
 "cells": [
  {
   "cell_type": "code",
   "execution_count": 1,
   "metadata": {},
   "outputs": [],
   "source": [
    "from datetime import datetime\n",
    "import os\n",
    "import pandas as pd\n",
    "import sp500.update_tickers\n",
    "\n",
    "pd.options.mode.chained_assignment = None  # default='warn'\n",
    "pd.set_option('display.max_rows', 600)\n",
    "\n",
    "# -*- encoding: utf-8 -*-\n",
    "%matplotlib inline"
   ]
  },
  {
   "cell_type": "code",
   "execution_count": 16,
   "metadata": {},
   "outputs": [
    {
     "name": "stdout",
     "output_type": "stream",
     "text": [
      "length: 2659, start date: 1996-01-02, end date: 2022-10-12\n"
     ]
    }
   ],
   "source": [
    "df = sp500.update_tickers.main()\n",
    "\n",
    "# Convert ticker column from csv to list, then sort.\n",
    "df['tickers'] = df['tickers'].apply(lambda x: sorted(x.split(',')))\n",
    "\n",
    "# Replace SYMBOL-yyyymm with SYMBOL.\n",
    "df['tickers'] = [[ticker.split('-')[0] for ticker in tickers] for tickers in df['tickers']]\n",
    "print(f\"length: {df['tickers'].shape[0]}, start date: {df.index[0]}, end date: {df.index[df['tickers'].shape[0]-1]}\")\n"
   ]
  },
  {
   "cell_type": "code",
   "execution_count": 13,
   "metadata": {},
   "outputs": [],
   "source": [
    "#merge all tickers together into a list\n",
    "tickers_list=[]\n",
    "for i in range(df['tickers'].shape[0]):\n",
    "    tickers_list = tickers_list + df['tickers'][i]\n",
    "#get unique tickers\n",
    "tickers_list_set=list(sorted(set(tickers_list)))\n",
    "print(len(tickers_list), len(tickers_list_set))"
   ]
  },
  {
   "cell_type": "code",
   "execution_count": 17,
   "metadata": {},
   "outputs": [],
   "source": [
    "tickers_list_set=pd.DataFrame(tickers_list_set)\n",
    "tickers_list_set.shape"
   ]
  },
  {
   "cell_type": "code",
   "execution_count": 19,
   "metadata": {},
   "outputs": [],
   "source": [
    "tickers_list_set.to_csv('sp500_tickers.txt', header=None, index=None, sep=' ', mode='a')"
   ]
  }
 ],
 "metadata": {
  "kernelspec": {
   "display_name": "finance",
   "language": "python",
   "name": "python3"
  },
  "language_info": {
   "codemirror_mode": {
    "name": "ipython",
    "version": 3
   },
   "file_extension": ".py",
   "mimetype": "text/x-python",
   "name": "python",
   "nbconvert_exporter": "python",
   "pygments_lexer": "ipython3",
   "version": "3.10.6"
  },
  "vscode": {
   "interpreter": {
    "hash": "5d7a4ff55d75e384dc7a01b28f6ad1e7c99e0a46a1cc83a8febd04bed1b95132"
   }
  }
 },
 "nbformat": 4,
 "nbformat_minor": 4
}
